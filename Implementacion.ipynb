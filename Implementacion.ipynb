{
 "cells": [
  {
   "cell_type": "markdown",
   "metadata": {},
   "source": [
    "# Implementación"
   ]
  },
  {
   "cell_type": "markdown",
   "metadata": {},
   "source": [
    "El conjunto de datos \"Voices Heard\" es una colección completa de informes y quejas presentadas por estudiantes en un entorno universitario. Desde quejas académicas hasta preocupaciones sobre la seguridad del campus, este conjunto de datos ofrece una gran cantidad de conocimientos sobre la experiencia de los estudiantes, proporcionando comentarios valiosos para los administradores y educadores universitarios. Con su diversa gama de comentarios, \"Voices Heard\" ofrece una oportunidad única para comprender mejor las necesidades e inquietudes de los estudiantes y desarrollar soluciones basadas en datos para mejorar la experiencia universitaria para todos."
   ]
  },
  {
   "cell_type": "code",
   "execution_count": 3,
   "metadata": {},
   "outputs": [
    {
     "name": "stderr",
     "output_type": "stream",
     "text": [
      "[nltk_data] Downloading package stopwords to\n",
      "[nltk_data]     C:\\Users\\dania\\AppData\\Roaming\\nltk_data...\n",
      "[nltk_data]   Package stopwords is already up-to-date!\n",
      "[nltk_data] Downloading package averaged_perceptron_tagger to\n",
      "[nltk_data]     C:\\Users\\dania\\AppData\\Roaming\\nltk_data...\n",
      "[nltk_data]   Unzipping taggers\\averaged_perceptron_tagger.zip.\n",
      "[nltk_data] Downloading package wordnet to\n",
      "[nltk_data]     C:\\Users\\dania\\AppData\\Roaming\\nltk_data...\n"
     ]
    },
    {
     "data": {
      "text/plain": [
       "True"
      ]
     },
     "execution_count": 3,
     "metadata": {},
     "output_type": "execute_result"
    }
   ],
   "source": [
    "# Tratamiento de datos\n",
    "import numpy as np\n",
    "import pandas as pd\n",
    "import string\n",
    "import re\n",
    "import nltk\n",
    "from nltk import pos_tag\n",
    "from nltk.corpus import stopwords\n",
    "from nltk.corpus import wordnet\n",
    "from nltk.stem import WordNetLemmatizer\n",
    "from sklearn.feature_extraction.text import TfidfVectorizer\n",
    "from sklearn.feature_selection import VarianceThreshold\n",
    "from scipy.spatial.distance import cosine\n",
    "from unidecode import unidecode\n",
    "from sklearn.tree import plot_tree\n",
    "\n",
    "# Gráficos\n",
    "import matplotlib.pyplot as plt\n",
    "import matplotlib.style as style\n",
    "import seaborn as sns\n",
    "from wordcloud import WordCloud\n",
    "\n",
    "# Preprocesado y modelado\n",
    "from sklearn import svm\n",
    "from sklearn.model_selection import train_test_split\n",
    "from sklearn.model_selection import GridSearchCV\n",
    "from sklearn.metrics import confusion_matrix\n",
    "from sklearn.ensemble import RandomForestClassifier\n",
    "from sklearn.tree import DecisionTreeClassifier\n",
    "from sklearn.neural_network import MLPClassifier\n",
    "from sklearn.preprocessing import StandardScaler, LabelEncoder\n",
    "from sklearn.metrics import accuracy_score\n",
    "\n",
    "\n",
    "# Configuración warnings\n",
    "import warnings\n",
    "warnings.filterwarnings('ignore')\n",
    "import nltk\n",
    "nltk.download('stopwords')\n",
    "nltk.download('averaged_perceptron_tagger')\n",
    "nltk.download('wordnet')"
   ]
  },
  {
   "cell_type": "markdown",
   "metadata": {},
   "source": [
    "Leyendo el conjunto de datos"
   ]
  },
  {
   "cell_type": "code",
   "execution_count": 4,
   "metadata": {},
   "outputs": [
    {
     "name": "stdout",
     "output_type": "stream",
     "text": [
      "<class 'pandas.core.frame.DataFrame'>\n",
      "RangeIndex: 1005 entries, 0 to 1004\n",
      "Data columns (total 8 columns):\n",
      " #   Column       Non-Null Count  Dtype  \n",
      "---  ------       --------------  -----  \n",
      " 0   Genre        1005 non-null   object \n",
      " 1   Reports      1005 non-null   object \n",
      " 2   Age          1005 non-null   int64  \n",
      " 3   Gpa          1005 non-null   float64\n",
      " 4   Year         1005 non-null   int64  \n",
      " 5   Count        1005 non-null   int64  \n",
      " 6   Gender       1005 non-null   object \n",
      " 7   Nationality  1005 non-null   object \n",
      "dtypes: float64(1), int64(3), object(4)\n",
      "memory usage: 62.9+ KB\n",
      "None\n"
     ]
    }
   ],
   "source": [
    "data = pd.read_csv(\"voices_heard.csv\")\n",
    "print(data.info())"
   ]
  },
  {
   "cell_type": "code",
   "execution_count": 7,
   "metadata": {},
   "outputs": [
    {
     "name": "stdout",
     "output_type": "stream",
     "text": [
      "                            Genre  \\\n",
      "0  Academic Support and Resources   \n",
      "1  Academic Support and Resources   \n",
      "2  Academic Support and Resources   \n",
      "3  Academic Support and Resources   \n",
      "4  Academic Support and Resources   \n",
      "\n",
      "                                             Reports  Age   Gpa  Year Gender  \\\n",
      "0  The limited access to research databases and m...   27  2.18     2      M   \n",
      "1  I'm having trouble finding the course material...   23  3.11     2      F   \n",
      "2  It's frustrating to have limited access to res...   20  3.68     2      F   \n",
      "3  I'm really struggling in one of my classes but...   20  1.30     2      F   \n",
      "4   I am really struggling with understanding the...   26  2.50     2      F   \n",
      "\n",
      "  Nationality  \n",
      "0       Egypt  \n",
      "1       Egypt  \n",
      "2       Egypt  \n",
      "3       Egypt  \n",
      "4       Egypt  \n"
     ]
    }
   ],
   "source": [
    "print(data.head())"
   ]
  },
  {
   "cell_type": "markdown",
   "metadata": {},
   "source": [
    "Removiendo columna Count"
   ]
  },
  {
   "cell_type": "code",
   "execution_count": 6,
   "metadata": {},
   "outputs": [],
   "source": [
    "data = data.drop(data.columns[5], axis=1)"
   ]
  },
  {
   "cell_type": "markdown",
   "metadata": {},
   "source": [
    "Se muestran las columnas del dataset"
   ]
  },
  {
   "cell_type": "code",
   "execution_count": 8,
   "metadata": {},
   "outputs": [
    {
     "data": {
      "text/html": [
       "<div>\n",
       "<style scoped>\n",
       "    .dataframe tbody tr th:only-of-type {\n",
       "        vertical-align: middle;\n",
       "    }\n",
       "\n",
       "    .dataframe tbody tr th {\n",
       "        vertical-align: top;\n",
       "    }\n",
       "\n",
       "    .dataframe thead th {\n",
       "        text-align: right;\n",
       "    }\n",
       "</style>\n",
       "<table border=\"1\" class=\"dataframe\">\n",
       "  <thead>\n",
       "    <tr style=\"text-align: right;\">\n",
       "      <th></th>\n",
       "      <th>Genre</th>\n",
       "      <th>Reports</th>\n",
       "      <th>Age</th>\n",
       "      <th>Gpa</th>\n",
       "      <th>Year</th>\n",
       "      <th>Gender</th>\n",
       "      <th>Nationality</th>\n",
       "    </tr>\n",
       "  </thead>\n",
       "  <tbody>\n",
       "    <tr>\n",
       "      <th>0</th>\n",
       "      <td>Academic Support and Resources</td>\n",
       "      <td>The limited access to research databases and m...</td>\n",
       "      <td>27</td>\n",
       "      <td>2.18</td>\n",
       "      <td>2</td>\n",
       "      <td>M</td>\n",
       "      <td>Egypt</td>\n",
       "    </tr>\n",
       "    <tr>\n",
       "      <th>1</th>\n",
       "      <td>Academic Support and Resources</td>\n",
       "      <td>I'm having trouble finding the course material...</td>\n",
       "      <td>23</td>\n",
       "      <td>3.11</td>\n",
       "      <td>2</td>\n",
       "      <td>F</td>\n",
       "      <td>Egypt</td>\n",
       "    </tr>\n",
       "    <tr>\n",
       "      <th>2</th>\n",
       "      <td>Academic Support and Resources</td>\n",
       "      <td>It's frustrating to have limited access to res...</td>\n",
       "      <td>20</td>\n",
       "      <td>3.68</td>\n",
       "      <td>2</td>\n",
       "      <td>F</td>\n",
       "      <td>Egypt</td>\n",
       "    </tr>\n",
       "    <tr>\n",
       "      <th>3</th>\n",
       "      <td>Academic Support and Resources</td>\n",
       "      <td>I'm really struggling in one of my classes but...</td>\n",
       "      <td>20</td>\n",
       "      <td>1.30</td>\n",
       "      <td>2</td>\n",
       "      <td>F</td>\n",
       "      <td>Egypt</td>\n",
       "    </tr>\n",
       "    <tr>\n",
       "      <th>4</th>\n",
       "      <td>Academic Support and Resources</td>\n",
       "      <td>I am really struggling with understanding the...</td>\n",
       "      <td>26</td>\n",
       "      <td>2.50</td>\n",
       "      <td>2</td>\n",
       "      <td>F</td>\n",
       "      <td>Egypt</td>\n",
       "    </tr>\n",
       "  </tbody>\n",
       "</table>\n",
       "</div>"
      ],
      "text/plain": [
       "                            Genre  \\\n",
       "0  Academic Support and Resources   \n",
       "1  Academic Support and Resources   \n",
       "2  Academic Support and Resources   \n",
       "3  Academic Support and Resources   \n",
       "4  Academic Support and Resources   \n",
       "\n",
       "                                             Reports  Age   Gpa  Year Gender  \\\n",
       "0  The limited access to research databases and m...   27  2.18     2      M   \n",
       "1  I'm having trouble finding the course material...   23  3.11     2      F   \n",
       "2  It's frustrating to have limited access to res...   20  3.68     2      F   \n",
       "3  I'm really struggling in one of my classes but...   20  1.30     2      F   \n",
       "4   I am really struggling with understanding the...   26  2.50     2      F   \n",
       "\n",
       "  Nationality  \n",
       "0       Egypt  \n",
       "1       Egypt  \n",
       "2       Egypt  \n",
       "3       Egypt  \n",
       "4       Egypt  "
      ]
     },
     "execution_count": 8,
     "metadata": {},
     "output_type": "execute_result"
    }
   ],
   "source": [
    "data[['Genre','Reports', 'Age', 'Gpa', 'Year', 'Gender', 'Nationality']].head()"
   ]
  },
  {
   "cell_type": "markdown",
   "metadata": {},
   "source": [
    "## Inspección y tratamiento de los datos"
   ]
  },
  {
   "cell_type": "markdown",
   "metadata": {},
   "source": [
    "Verificando que el conjunto de datos no tiene variables con valores faltantes o nulos"
   ]
  },
  {
   "cell_type": "code",
   "execution_count": 9,
   "metadata": {},
   "outputs": [
    {
     "data": {
      "text/plain": [
       "Genre          0\n",
       "Reports        0\n",
       "Age            0\n",
       "Gpa            0\n",
       "Year           0\n",
       "Gender         0\n",
       "Nationality    0\n",
       "dtype: int64"
      ]
     },
     "execution_count": 9,
     "metadata": {},
     "output_type": "execute_result"
    }
   ],
   "source": [
    "data.isnull().sum()"
   ]
  },
  {
   "cell_type": "markdown",
   "metadata": {},
   "source": [
    "Se cuenta el numero de filas del Dataset\n",
    "\n"
   ]
  },
  {
   "cell_type": "code",
   "execution_count": 10,
   "metadata": {},
   "outputs": [
    {
     "name": "stdout",
     "output_type": "stream",
     "text": [
      "Total de filas: 1005\n"
     ]
    }
   ],
   "source": [
    "total_filas = data.shape[0]\n",
    "print(\"Total de filas:\", total_filas)"
   ]
  }
 ],
 "metadata": {
  "kernelspec": {
   "display_name": "Python 3",
   "language": "python",
   "name": "python3"
  },
  "language_info": {
   "codemirror_mode": {
    "name": "ipython",
    "version": 3
   },
   "file_extension": ".py",
   "mimetype": "text/x-python",
   "name": "python",
   "nbconvert_exporter": "python",
   "pygments_lexer": "ipython3",
   "version": "3.11.2"
  }
 },
 "nbformat": 4,
 "nbformat_minor": 2
}
